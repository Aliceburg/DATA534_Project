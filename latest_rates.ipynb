{
 "cells": [
  {
   "cell_type": "code",
   "execution_count": 3,
   "id": "8b204bea-f292-453c-85fc-96a8911b427c",
   "metadata": {},
   "outputs": [],
   "source": [
    "library(jsonlite)\n",
    "library(tidyr)\n",
    "library(ggplot2)"
   ]
  },
  {
   "cell_type": "code",
   "execution_count": 4,
   "id": "18990952-f94d-4fe5-b6df-f7cee6343fdc",
   "metadata": {},
   "outputs": [],
   "source": [
    "currency_code_vector<-c('AED', 'AFN', 'ALL', 'AMD', 'ANG', 'AOA', 'ARS', 'AUD', 'AWG', 'AZN',\n",
    "                        'BAM', 'BBD', 'BDT', 'BGN', 'BHD', 'BIF', 'BMD', 'BND', 'BOB', 'BRL', 'BSD', 'BTC', 'BTN', 'BWP', 'BYN', 'BZD',\n",
    "                        'CAD', 'CDF', 'CHF', 'CLF', 'CLP', 'CNH', 'CNY', 'COP','CRC', 'CUC', 'CUP','CVE','CZK',\n",
    "                        'DJF', 'DKK', 'DOP', 'DZD',\n",
    "                        'EGP', 'ERN', 'ETB', 'EUR',\n",
    "                        'FJD', 'FKP',\n",
    "                        'GBP', 'GEL', 'GGP', 'GHS', 'GIP', 'GMD', 'GNF', 'GTQ', 'GYD',\n",
    "                        'HKD', 'HNL', 'HRK', 'HTG', 'HUF', \n",
    "                        'IDR', 'ILS', 'IMP', 'INR', 'IQD', 'IRR', 'ISK',\n",
    "                        'JEP', 'JMD', 'JOD', 'JPY',\n",
    "                        'KES', 'KGS', 'KHR', 'KMF', 'KPW', 'KRW', 'KWD', 'KYD', 'KZT',\n",
    "                        'LAK', 'LBP', 'LKR', 'LRD', 'LSL', 'LYD',\n",
    "                        'MAD', 'MDL', 'MGA', 'MKD', 'MMK', 'MNT', 'MOP', 'MRU', 'MUR', 'MVR', 'MWK', 'MXN', 'MYR', 'MZN',\n",
    "                        'NAD', 'NGN', 'NIO', 'NOK', 'NPR', 'NZD', \n",
    "                        'OMR',\n",
    "                        'PAB', 'PEN', 'PGK', 'PHP', 'PKR', 'PLN', 'PYG',\n",
    "                        'QAR',\n",
    "                        'RON', 'RSD', 'RUB', 'RWF',\n",
    "                        'SAR', 'SBD', 'SCR', 'SDG', 'SEK', 'SGD', 'SHP', 'SLL', 'SOS', 'SRD', 'SSP', 'STD', 'STN', 'SVC', 'SYP', 'SZL',\n",
    "                        'THB', 'TJS', 'TMT', 'TND', 'TOP', 'TRY', 'TTD', 'TWD', 'TZS',\n",
    "                        'UAH', 'UGX', 'USD', 'UYU', 'UZS', \n",
    "                        'VES', 'VND', 'VUV', \n",
    "                        'WST', \n",
    "                        'XAF', 'XAG', 'XAU', 'XCD', 'XDR', 'XOF', 'XPD', 'XPF', 'XPT',\n",
    "                        'YER',\n",
    "                        'ZAR', 'ZMW', 'ZWL')"
   ]
  },
  {
   "cell_type": "markdown",
   "id": "defd65c5-8c51-4ce6-a84b-2fe84b65ea86",
   "metadata": {},
   "source": [
    "\n",
    "    A wrapper function to obtain the the latest foreign exchange reference rates of a list of currencies on a specific base  at a specific amount on daily basis from the Exchange rates API.\n",
    "    \n",
    "    Parameters:\n",
    "    -----------\n",
    "    base: Enter the three-letter currency code of your preferred base currency (e.g., base='USD').\n",
    "    symbols: Enter a list of comma-separated currency codes to limit output currencies (e.g., symbols=c('USD','EUR','CZK')]\n",
    "    amount: The amount to be converted (e.g., amount=1200).\n",
    "\n",
    "    Returns:\n",
    "    --------\n",
    "    A dataframe with the columns `Date`, `Base`, `Rates`, and `Amount`.\n"
   ]
  },
  {
   "cell_type": "code",
   "execution_count": 5,
   "id": "34faec7c-8b80-496e-8494-182ed9fe8ba4",
   "metadata": {},
   "outputs": [],
   "source": [
    "latest_rates <- function(base=\"EUR\", symbols='', amount=1) {\n",
    "    if(base %in% currency_code_vector == FALSE){\n",
    "        warning(\"Invalid base currency name in base!\")\n",
    "        return (\"Error\")\n",
    "        }\n",
    "\n",
    "    if(all(unlist(strsplit(symbols, \",\")) %in% currency_code_vector) == FALSE){\n",
    "        warning(\"Invalid currency names in symbols!\")\n",
    "        return (\"Error\")\n",
    "        }\n",
    "\n",
    "    if(is.numeric(amount) == FALSE){\n",
    "        warning(\"Input a number!\")\n",
    "        return (\"Error\")\n",
    "        }\n",
    "\n",
    "    url<-paste('https://api.exchangerate.host/latest?base=',base,'&symbols=',symbols,'&amount=',amount,\"&places=2\",sep=\"\")\n",
    "    data <- fromJSON(url)\n",
    "\n",
    "    if(data$success!=TRUE){\n",
    "        warning(\"Error in connecting to the API!\")\n",
    "        return (\"Error\")\n",
    "    }\n",
    "\n",
    "    if(length(data$rates)==0){\n",
    "        warning(\"Error in the parameter, please check!\")\n",
    "        return (\"Error\")\n",
    "    }\n",
    "\n",
    "    data <- data.frame('Date' = data$date, 'Base' = base, 'Rates' = do.call(rbind, data$rates), 'Amount' = amount)\n",
    "    return (data)\n",
    "}"
   ]
  },
  {
   "cell_type": "code",
   "execution_count": 6,
   "id": "f20bbe1c-7047-4db6-bb44-2957e3b9e101",
   "metadata": {},
   "outputs": [],
   "source": [
    "latest_rates <- latest_rates('CNH',,5000)"
   ]
  },
  {
   "cell_type": "code",
   "execution_count": 7,
   "id": "a806a4b7-d709-42e0-b127-44f1f754086c",
   "metadata": {},
   "outputs": [
    {
     "data": {
      "text/html": [
       "<table class=\"dataframe\">\n",
       "<caption>A data.frame: 6 × 4</caption>\n",
       "<thead>\n",
       "\t<tr><th></th><th scope=col>Date</th><th scope=col>Base</th><th scope=col>Rates</th><th scope=col>Amount</th></tr>\n",
       "\t<tr><th></th><th scope=col>&lt;chr&gt;</th><th scope=col>&lt;chr&gt;</th><th scope=col>&lt;dbl&gt;</th><th scope=col>&lt;dbl&gt;</th></tr>\n",
       "</thead>\n",
       "<tbody>\n",
       "\t<tr><th scope=row>AED</th><td>2022-02-15</td><td>CNH</td><td>  2889.55</td><td>5000</td></tr>\n",
       "\t<tr><th scope=row>AFN</th><td>2022-02-15</td><td>CNH</td><td> 72415.42</td><td>5000</td></tr>\n",
       "\t<tr><th scope=row>ALL</th><td>2022-02-15</td><td>CNH</td><td> 84368.07</td><td>5000</td></tr>\n",
       "\t<tr><th scope=row>AMD</th><td>2022-02-15</td><td>CNH</td><td>377553.55</td><td>5000</td></tr>\n",
       "\t<tr><th scope=row>ANG</th><td>2022-02-15</td><td>CNH</td><td>  1417.58</td><td>5000</td></tr>\n",
       "\t<tr><th scope=row>AOA</th><td>2022-02-15</td><td>CNH</td><td>415097.34</td><td>5000</td></tr>\n",
       "</tbody>\n",
       "</table>\n"
      ],
      "text/latex": [
       "A data.frame: 6 × 4\n",
       "\\begin{tabular}{r|llll}\n",
       "  & Date & Base & Rates & Amount\\\\\n",
       "  & <chr> & <chr> & <dbl> & <dbl>\\\\\n",
       "\\hline\n",
       "\tAED & 2022-02-15 & CNH &   2889.55 & 5000\\\\\n",
       "\tAFN & 2022-02-15 & CNH &  72415.42 & 5000\\\\\n",
       "\tALL & 2022-02-15 & CNH &  84368.07 & 5000\\\\\n",
       "\tAMD & 2022-02-15 & CNH & 377553.55 & 5000\\\\\n",
       "\tANG & 2022-02-15 & CNH &   1417.58 & 5000\\\\\n",
       "\tAOA & 2022-02-15 & CNH & 415097.34 & 5000\\\\\n",
       "\\end{tabular}\n"
      ],
      "text/markdown": [
       "\n",
       "A data.frame: 6 × 4\n",
       "\n",
       "| <!--/--> | Date &lt;chr&gt; | Base &lt;chr&gt; | Rates &lt;dbl&gt; | Amount &lt;dbl&gt; |\n",
       "|---|---|---|---|---|\n",
       "| AED | 2022-02-15 | CNH |   2889.55 | 5000 |\n",
       "| AFN | 2022-02-15 | CNH |  72415.42 | 5000 |\n",
       "| ALL | 2022-02-15 | CNH |  84368.07 | 5000 |\n",
       "| AMD | 2022-02-15 | CNH | 377553.55 | 5000 |\n",
       "| ANG | 2022-02-15 | CNH |   1417.58 | 5000 |\n",
       "| AOA | 2022-02-15 | CNH | 415097.34 | 5000 |\n",
       "\n"
      ],
      "text/plain": [
       "    Date       Base Rates     Amount\n",
       "AED 2022-02-15 CNH    2889.55 5000  \n",
       "AFN 2022-02-15 CNH   72415.42 5000  \n",
       "ALL 2022-02-15 CNH   84368.07 5000  \n",
       "AMD 2022-02-15 CNH  377553.55 5000  \n",
       "ANG 2022-02-15 CNH    1417.58 5000  \n",
       "AOA 2022-02-15 CNH  415097.34 5000  "
      ]
     },
     "metadata": {},
     "output_type": "display_data"
    }
   ],
   "source": [
    "head(latest_rates)"
   ]
  },
  {
   "cell_type": "code",
   "execution_count": null,
   "id": "6507205d-ac78-460c-82ce-83ee3a3dfd69",
   "metadata": {},
   "outputs": [],
   "source": []
  }
 ],
 "metadata": {
  "kernelspec": {
   "display_name": "R",
   "language": "R",
   "name": "ir"
  },
  "language_info": {
   "codemirror_mode": "r",
   "file_extension": ".r",
   "mimetype": "text/x-r-source",
   "name": "R",
   "pygments_lexer": "r",
   "version": "4.1.1"
  }
 },
 "nbformat": 4,
 "nbformat_minor": 5
}

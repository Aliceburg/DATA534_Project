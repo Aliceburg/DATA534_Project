{
 "cells": [
  {
   "cell_type": "code",
   "execution_count": 47,
   "id": "a95be5c0-4e04-4cb1-9cc8-8f404ab9b38e",
   "metadata": {},
   "outputs": [],
   "source": [
    "library(jsonlite)\n",
    "library(tidyr)\n",
    "library(ggplot2)"
   ]
  },
  {
   "cell_type": "code",
   "execution_count": 48,
   "id": "36fdcd69-29f6-445e-a357-4139394cd2ba",
   "metadata": {},
   "outputs": [],
   "source": [
    "currency_code_vector<-c('AED', 'AFN', 'ALL', 'AMD', 'ANG', 'AOA', 'ARS', 'AUD', 'AWG', 'AZN',\n",
    "                        'BAM', 'BBD', 'BDT', 'BGN', 'BHD', 'BIF', 'BMD', 'BND', 'BOB', 'BRL', 'BSD', 'BTC', 'BTN', 'BWP', 'BYN', 'BZD',\n",
    "                        'CAD', 'CDF', 'CHF', 'CLF', 'CLP', 'CNH', 'CNY', 'COP','CRC', 'CUC', 'CUP','CVE','CZK',\n",
    "                        'DJF', 'DKK', 'DOP', 'DZD',\n",
    "                        'EGP', 'ERN', 'ETB', 'EUR',\n",
    "                        'FJD', 'FKP',\n",
    "                        'GBP', 'GEL', 'GGP', 'GHS', 'GIP', 'GMD', 'GNF', 'GTQ', 'GYD',\n",
    "                        'HKD', 'HNL', 'HRK', 'HTG', 'HUF', \n",
    "                        'IDR', 'ILS', 'IMP', 'INR', 'IQD', 'IRR', 'ISK',\n",
    "                        'JEP', 'JMD', 'JOD', 'JPY',\n",
    "                        'KES', 'KGS', 'KHR', 'KMF', 'KPW', 'KRW', 'KWD', 'KYD', 'KZT',\n",
    "                        'LAK', 'LBP', 'LKR', 'LRD', 'LSL', 'LYD',\n",
    "                        'MAD', 'MDL', 'MGA', 'MKD', 'MMK', 'MNT', 'MOP', 'MRU', 'MUR', 'MVR', 'MWK', 'MXN', 'MYR', 'MZN',\n",
    "                        'NAD', 'NGN', 'NIO', 'NOK', 'NPR', 'NZD', \n",
    "                        'OMR',\n",
    "                        'PAB', 'PEN', 'PGK', 'PHP', 'PKR', 'PLN', 'PYG',\n",
    "                        'QAR',\n",
    "                        'RON', 'RSD', 'RUB', 'RWF',\n",
    "                        'SAR', 'SBD', 'SCR', 'SDG', 'SEK', 'SGD', 'SHP', 'SLL', 'SOS', 'SRD', 'SSP', 'STD', 'STN', 'SVC', 'SYP', 'SZL',\n",
    "                        'THB', 'TJS', 'TMT', 'TND', 'TOP', 'TRY', 'TTD', 'TWD', 'TZS',\n",
    "                        'UAH', 'UGX', 'USD', 'UYU', 'UZS', \n",
    "                        'VES', 'VND', 'VUV', \n",
    "                        'WST', \n",
    "                        'XAF', 'XAG', 'XAU', 'XCD', 'XDR', 'XOF', 'XPD', 'XPF', 'XPT',\n",
    "                        'YER',\n",
    "                        'ZAR', 'ZMW', 'ZWL')"
   ]
  },
  {
   "cell_type": "markdown",
   "id": "9faa10c6-fc04-4caa-a9b5-cab8782d9a14",
   "metadata": {},
   "source": [
    "\n",
    "    A wrapper function to retrieve information about how a list of currencies fluctuate on a specific base at a specific amount on a day-to-day basis from the Exchange rates API. The maximum allowed timeframe is 366 days.\n",
    "    \n",
    "    Parameters:\n",
    "    -----------\n",
    "    start_date: The start date of your preferred fluctuation timeframe (e.g. start='2020-01-01'). \n",
    "    end_date: The end date of your preferred fluctuation timeframe (e.g. end='2020-01-01').\n",
    "    base: Changing base currency. Enter the three-letter currency code of your preferred base currency (e.g. base='USD').\n",
    "    symbols: Enter a list of comma-separated currency codes to limit output currencies (e.g., symbols=c('USD','EUR','CZK')]\n",
    "    amount: The amount to be converted (e.g., amount=1200).\n",
    "\n",
    "    Returns:\n",
    "    --------\n",
    "    A dataframe with the columns `Start`, `End`, `Base`, `Change`, and `ChangePct`.\n",
    "    Start: Start date.\n",
    "    End: End date.\n",
    "    Base: Changing base currency.\n",
    "    Rates.start_rate: Rates at the start date.\n",
    "    Rates.end_rate: Rates at the end date.\n",
    "    Rates.change: Rates.start_rate-Rates.end_rate.\n",
    "    Rates.change_pct: (Rates.start_rate-Rates.end_rate)/Rates.start_rate\n",
    "    Amount: The amount to be converted\n",
    "    \n",
    "    \n"
   ]
  },
  {
   "cell_type": "code",
   "execution_count": 56,
   "id": "97f84116-cb77-41a6-a81c-b82c5e1f874d",
   "metadata": {},
   "outputs": [],
   "source": [
    "fluctuation <- function(start, end, base='EUR', symbols='', amount=1) {\n",
    "    if(base %in% currency_code_vector == FALSE){\n",
    "        warning(\"Invalid base currency name in base!\")\n",
    "        return (\"Error\")\n",
    "        }\n",
    "\n",
    "    if(all(unlist(strsplit(symbols, \",\")) %in% currency_code_vector) == FALSE){\n",
    "        warning(\"Invalid currency names in symbols!\")\n",
    "        return (\"Error\")\n",
    "        }\n",
    "\n",
    "    if(is.numeric(amount) == FALSE){\n",
    "        warning(\"Input a number!\")\n",
    "        return (\"Error\")\n",
    "        }\n",
    "\n",
    "    url<-paste('https://api.exchangerate.host/fluctuation?start_date=',start,'&end_date=',end,'&base=',base,'&symbols=',symbols,'&amount=',amount,\"&places=2\",sep=\"\")\n",
    "    data <- fromJSON(url)\n",
    "\n",
    "    if(data$success!=TRUE){\n",
    "        warning(\"Error in connecting to the API!\")\n",
    "        return (\"Error\")\n",
    "    }\n",
    "\n",
    "    if(length(data$rates)==0){\n",
    "        warning(\"Error in the parameter, please check!\")\n",
    "        return (\"Error\")\n",
    "    }\n",
    "    \n",
    "    start <- as.Date(start)\n",
    "    end <- as.Date(end)\n",
    "    if(difftime(end, start, units = \"days\")>366){\n",
    "        warning(\"Error in the timeframe! The maximum allowed is 366 days!\")\n",
    "        return (\"Error\")\n",
    "    }\n",
    "\n",
    "    data <- data.frame('Start' = data$start_date, 'End' = data$end_date, 'Base' = base, 'Amount' = amount, 'Rates' = do.call(rbind, data$rates))\n",
    "    return (data)\n",
    "}"
   ]
  },
  {
   "cell_type": "code",
   "execution_count": 57,
   "id": "34491743-2105-45e5-8265-250ee7463724",
   "metadata": {},
   "outputs": [],
   "source": [
    "fluctuation <- fluctuation('2022-01-01','2022-02-10')"
   ]
  },
  {
   "cell_type": "code",
   "execution_count": 58,
   "id": "d42fd7c4-ccef-46e8-b8a3-da43686a27db",
   "metadata": {},
   "outputs": [
    {
     "data": {
      "text/html": [
       "<table class=\"dataframe\">\n",
       "<caption>A data.frame: 6 × 8</caption>\n",
       "<thead>\n",
       "\t<tr><th></th><th scope=col>Start</th><th scope=col>End</th><th scope=col>Base</th><th scope=col>Amount</th><th scope=col>Rates.start_rate</th><th scope=col>Rates.end_rate</th><th scope=col>Rates.change</th><th scope=col>Rates.change_pct</th></tr>\n",
       "\t<tr><th></th><th scope=col>&lt;chr&gt;</th><th scope=col>&lt;chr&gt;</th><th scope=col>&lt;chr&gt;</th><th scope=col>&lt;dbl&gt;</th><th scope=col>&lt;named list&gt;</th><th scope=col>&lt;named list&gt;</th><th scope=col>&lt;named list&gt;</th><th scope=col>&lt;named list&gt;</th></tr>\n",
       "</thead>\n",
       "<tbody>\n",
       "\t<tr><th scope=row>AED</th><td>2022-01-01</td><td>2022-02-10</td><td>EUR</td><td>1</td><td>4.18</td><td>4.2</td><td>-0.02</td><td>0</td></tr>\n",
       "\t<tr><th scope=row>AFN</th><td>2022-01-01</td><td>2022-02-10</td><td>EUR</td><td>1</td><td>118.01</td><td>106.84</td><td>11.17</td><td>0.09</td></tr>\n",
       "\t<tr><th scope=row>ALL</th><td>2022-01-01</td><td>2022-02-10</td><td>EUR</td><td>1</td><td>121.3</td><td>121.2</td><td>0.1</td><td>0</td></tr>\n",
       "\t<tr><th scope=row>AMD</th><td>2022-01-01</td><td>2022-02-10</td><td>EUR</td><td>1</td><td>546.22</td><td>549.25</td><td>-3.03</td><td>-0.01</td></tr>\n",
       "\t<tr><th scope=row>ANG</th><td>2022-01-01</td><td>2022-02-10</td><td>EUR</td><td>1</td><td>2.05</td><td>2.06</td><td>-0.01</td><td>0</td></tr>\n",
       "\t<tr><th scope=row>AOA</th><td>2022-01-01</td><td>2022-02-10</td><td>EUR</td><td>1</td><td>626.24</td><td>604.3</td><td>21.94</td><td>0.04</td></tr>\n",
       "</tbody>\n",
       "</table>\n"
      ],
      "text/latex": [
       "A data.frame: 6 × 8\n",
       "\\begin{tabular}{r|llllllll}\n",
       "  & Start & End & Base & Amount & Rates.start\\_rate & Rates.end\\_rate & Rates.change & Rates.change\\_pct\\\\\n",
       "  & <chr> & <chr> & <chr> & <dbl> & <named list> & <named list> & <named list> & <named list>\\\\\n",
       "\\hline\n",
       "\tAED & 2022-01-01 & 2022-02-10 & EUR & 1 & 4.18 & 4.2 & -0.02 & 0\\\\\n",
       "\tAFN & 2022-01-01 & 2022-02-10 & EUR & 1 & 118.01 & 106.84 & 11.17 & 0.09\\\\\n",
       "\tALL & 2022-01-01 & 2022-02-10 & EUR & 1 & 121.3 & 121.2 & 0.1 & 0\\\\\n",
       "\tAMD & 2022-01-01 & 2022-02-10 & EUR & 1 & 546.22 & 549.25 & -3.03 & -0.01\\\\\n",
       "\tANG & 2022-01-01 & 2022-02-10 & EUR & 1 & 2.05 & 2.06 & -0.01 & 0\\\\\n",
       "\tAOA & 2022-01-01 & 2022-02-10 & EUR & 1 & 626.24 & 604.3 & 21.94 & 0.04\\\\\n",
       "\\end{tabular}\n"
      ],
      "text/markdown": [
       "\n",
       "A data.frame: 6 × 8\n",
       "\n",
       "| <!--/--> | Start &lt;chr&gt; | End &lt;chr&gt; | Base &lt;chr&gt; | Amount &lt;dbl&gt; | Rates.start_rate &lt;named list&gt; | Rates.end_rate &lt;named list&gt; | Rates.change &lt;named list&gt; | Rates.change_pct &lt;named list&gt; |\n",
       "|---|---|---|---|---|---|---|---|---|\n",
       "| AED | 2022-01-01 | 2022-02-10 | EUR | 1 | 4.18 | 4.2 | -0.02 | 0 |\n",
       "| AFN | 2022-01-01 | 2022-02-10 | EUR | 1 | 118.01 | 106.84 | 11.17 | 0.09 |\n",
       "| ALL | 2022-01-01 | 2022-02-10 | EUR | 1 | 121.3 | 121.2 | 0.1 | 0 |\n",
       "| AMD | 2022-01-01 | 2022-02-10 | EUR | 1 | 546.22 | 549.25 | -3.03 | -0.01 |\n",
       "| ANG | 2022-01-01 | 2022-02-10 | EUR | 1 | 2.05 | 2.06 | -0.01 | 0 |\n",
       "| AOA | 2022-01-01 | 2022-02-10 | EUR | 1 | 626.24 | 604.3 | 21.94 | 0.04 |\n",
       "\n"
      ],
      "text/plain": [
       "    Start      End        Base Amount Rates.start_rate Rates.end_rate\n",
       "AED 2022-01-01 2022-02-10 EUR  1      4.18             4.2           \n",
       "AFN 2022-01-01 2022-02-10 EUR  1      118.01           106.84        \n",
       "ALL 2022-01-01 2022-02-10 EUR  1      121.3            121.2         \n",
       "AMD 2022-01-01 2022-02-10 EUR  1      546.22           549.25        \n",
       "ANG 2022-01-01 2022-02-10 EUR  1      2.05             2.06          \n",
       "AOA 2022-01-01 2022-02-10 EUR  1      626.24           604.3         \n",
       "    Rates.change Rates.change_pct\n",
       "AED -0.02        0               \n",
       "AFN 11.17        0.09            \n",
       "ALL 0.1          0               \n",
       "AMD -3.03        -0.01           \n",
       "ANG -0.01        0               \n",
       "AOA 21.94        0.04            "
      ]
     },
     "metadata": {},
     "output_type": "display_data"
    }
   ],
   "source": [
    "head(fluctuation)"
   ]
  },
  {
   "cell_type": "code",
   "execution_count": null,
   "id": "147c3d9e-9b69-4a19-8985-16f1e3910fc1",
   "metadata": {},
   "outputs": [],
   "source": []
  }
 ],
 "metadata": {
  "kernelspec": {
   "display_name": "R",
   "language": "R",
   "name": "ir"
  },
  "language_info": {
   "codemirror_mode": "r",
   "file_extension": ".r",
   "mimetype": "text/x-r-source",
   "name": "R",
   "pygments_lexer": "r",
   "version": "4.1.1"
  }
 },
 "nbformat": 4,
 "nbformat_minor": 5
}
